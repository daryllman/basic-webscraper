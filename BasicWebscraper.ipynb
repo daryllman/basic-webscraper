{
  "nbformat": 4,
  "nbformat_minor": 0,
  "metadata": {
    "colab": {
      "name": "BasicWebscraper.ipynb",
      "provenance": [],
      "collapsed_sections": [],
      "authorship_tag": "ABX9TyOx58/EG0i9rvfsWuez54/q",
      "include_colab_link": true
    },
    "kernelspec": {
      "name": "python3",
      "display_name": "Python 3"
    }
  },
  "cells": [
    {
      "cell_type": "markdown",
      "metadata": {
        "id": "view-in-github",
        "colab_type": "text"
      },
      "source": [
        "<a href=\"https://colab.research.google.com/github/daryllman/basic-webscraper/blob/master/BasicWebscraper.ipynb\" target=\"_parent\"><img src=\"https://colab.research.google.com/assets/colab-badge.svg\" alt=\"Open In Colab\"/></a>"
      ]
    },
    {
      "cell_type": "markdown",
      "metadata": {
        "id": "sMZsdzc_odAT",
        "colab_type": "text"
      },
      "source": [
        "## Load in the necessary libraries"
      ]
    },
    {
      "cell_type": "code",
      "metadata": {
        "id": "MUfKeC9NlP0H",
        "colab_type": "code",
        "colab": {}
      },
      "source": [
        "import requests\n",
        "from bs4 import BeautifulSoup as bs #pip install beautifulsoup4"
      ],
      "execution_count": 4,
      "outputs": []
    },
    {
      "cell_type": "markdown",
      "metadata": {
        "id": "ifH54QbgonXf",
        "colab_type": "text"
      },
      "source": [
        "## Load sample webpage content\n",
        "\n"
      ]
    },
    {
      "cell_type": "code",
      "metadata": {
        "id": "zbnEduH_pA_K",
        "colab_type": "code",
        "colab": {}
      },
      "source": [
        "# Load the sample webpage\n",
        "sample_url = 'https://keithgalli.github.io/web-scraping/example.html'\n",
        "r = requests.get(sample_url)\n",
        "\n",
        "# Convert to a beautiful soup object\n",
        "soup = bs(r.content)"
      ],
      "execution_count": 7,
      "outputs": []
    },
    {
      "cell_type": "code",
      "metadata": {
        "id": "eUXPrkmFpQ7j",
        "colab_type": "code",
        "colab": {}
      },
      "source": [
        "#print(r.content)\n",
        "#print(soup)\n",
        "print(soup.prettify())"
      ],
      "execution_count": null,
      "outputs": []
    },
    {
      "cell_type": "markdown",
      "metadata": {
        "id": "sZCk6iIiqLIM",
        "colab_type": "text"
      },
      "source": [
        "## Using Beautiful Soup"
      ]
    },
    {
      "cell_type": "markdown",
      "metadata": {
        "id": "TW2PKcvHqQBw",
        "colab_type": "text"
      },
      "source": [
        "### find() & find_all()"
      ]
    },
    {
      "cell_type": "code",
      "metadata": {
        "id": "SKAGwwnQqOMr",
        "colab_type": "code",
        "colab": {
          "base_uri": "https://localhost:8080/",
          "height": 34
        },
        "outputId": "490c8eea-c1a7-46be-c75e-46025ec589c0"
      },
      "source": [
        "first_header = soup.find(\"h2\")\n",
        "print(first_header)"
      ],
      "execution_count": 19,
      "outputs": [
        {
          "output_type": "stream",
          "text": [
            "<h2>A Header</h2>\n"
          ],
          "name": "stdout"
        }
      ]
    },
    {
      "cell_type": "code",
      "metadata": {
        "id": "CpvaNgxiqqur",
        "colab_type": "code",
        "colab": {
          "base_uri": "https://localhost:8080/",
          "height": 34
        },
        "outputId": "5ab69e63-4174-475c-b570-26e1cd7878df"
      },
      "source": [
        "headers = soup.find_all(\"h2\")\n",
        "print(headers)"
      ],
      "execution_count": 23,
      "outputs": [
        {
          "output_type": "stream",
          "text": [
            "[<h2>A Header</h2>, <h2>Another header</h2>]\n"
          ],
          "name": "stdout"
        }
      ]
    },
    {
      "cell_type": "code",
      "metadata": {
        "id": "oy9SAO28q2tb",
        "colab_type": "code",
        "colab": {
          "base_uri": "https://localhost:8080/",
          "height": 34
        },
        "outputId": "84dcd171-ebc0-4837-8b38-196add9dea95"
      },
      "source": [
        "# Pass in a list of elements to look for\n",
        "first_header = soup.find([\"h1\", \"h2\"])\n",
        "print(first_header)"
      ],
      "execution_count": 24,
      "outputs": [
        {
          "output_type": "stream",
          "text": [
            "<h1>HTML Webpage</h1>\n"
          ],
          "name": "stdout"
        }
      ]
    },
    {
      "cell_type": "code",
      "metadata": {
        "id": "uZXlD9YmrECc",
        "colab_type": "code",
        "colab": {
          "base_uri": "https://localhost:8080/",
          "height": 34
        },
        "outputId": "c581633f-e6a9-4268-97f7-1aeb1ff87c83"
      },
      "source": [
        "headers = soup.find_all([\"h1\", \"h2\"])\n",
        "print(headers)"
      ],
      "execution_count": 27,
      "outputs": [
        {
          "output_type": "stream",
          "text": [
            "[<h1>HTML Webpage</h1>, <h2>A Header</h2>, <h2>Another header</h2>]\n"
          ],
          "name": "stdout"
        }
      ]
    },
    {
      "cell_type": "code",
      "metadata": {
        "id": "YE7gXQRrrOPx",
        "colab_type": "code",
        "colab": {
          "base_uri": "https://localhost:8080/",
          "height": 71
        },
        "outputId": "1a36f336-09ed-46cd-886f-57c4f7f6cbc4"
      },
      "source": [
        "# Pass in attributes to the find() & find_all()\n",
        "paragraph = soup.find_all(\"p\")\n",
        "print(paragraph)\n",
        "\n",
        "paragraph2 = soup.find_all(\"p\", attrs={\"id\":\"paragraph-id\"})\n",
        "print(paragraph2)"
      ],
      "execution_count": 29,
      "outputs": [
        {
          "output_type": "stream",
          "text": [
            "[<p>Link to more interesting example: <a href=\"https://keithgalli.github.io/web-scraping/webpage.html\">keithgalli.github.io/web-scraping/webpage.html</a></p>, <p><i>Some italicized text</i></p>, <p id=\"paragraph-id\"><b>Some bold text</b></p>]\n",
            "[<p id=\"paragraph-id\"><b>Some bold text</b></p>]\n"
          ],
          "name": "stdout"
        }
      ]
    },
    {
      "cell_type": "code",
      "metadata": {
        "id": "UrWAxst0rnhU",
        "colab_type": "code",
        "colab": {
          "base_uri": "https://localhost:8080/",
          "height": 306
        },
        "outputId": "75c2ef1b-168c-4f14-ef0e-e8d5bf0386f2"
      },
      "source": [
        "# Nesting find() & find_all() calls\n",
        "body = soup.find(\"body\")\n",
        "print(body)\n",
        "print(\"________________________\")\n",
        "div = body.find(\"div\")\n",
        "print(div)\n",
        "print(\"________________________\")\n",
        "header = div.find(\"h1\")\n",
        "print(header)"
      ],
      "execution_count": 35,
      "outputs": [
        {
          "output_type": "stream",
          "text": [
            "<body>\n",
            "<div align=\"middle\">\n",
            "<h1>HTML Webpage</h1>\n",
            "<p>Link to more interesting example: <a href=\"https://keithgalli.github.io/web-scraping/webpage.html\">keithgalli.github.io/web-scraping/webpage.html</a></p>\n",
            "</div>\n",
            "<h2>A Header</h2>\n",
            "<p><i>Some italicized text</i></p>\n",
            "<h2>Another header</h2>\n",
            "<p id=\"paragraph-id\"><b>Some bold text</b></p>\n",
            "</body>\n",
            "________________________\n",
            "<div align=\"middle\">\n",
            "<h1>HTML Webpage</h1>\n",
            "<p>Link to more interesting example: <a href=\"https://keithgalli.github.io/web-scraping/webpage.html\">keithgalli.github.io/web-scraping/webpage.html</a></p>\n",
            "</div>\n",
            "________________________\n",
            "<h1>HTML Webpage</h1>\n"
          ],
          "name": "stdout"
        }
      ]
    },
    {
      "cell_type": "code",
      "metadata": {
        "id": "vLn4Wi12sJIJ",
        "colab_type": "code",
        "colab": {
          "base_uri": "https://localhost:8080/",
          "height": 68
        },
        "outputId": "66dbd59b-b287-48c4-84d5-8265fdbde6f5"
      },
      "source": [
        "# Search for specific strings in find() & find_all()\n",
        "import re #regex is useful for string manipulation\n",
        "paragraphs = soup.find_all(\"p\", text=\"Some\")\n",
        "print(paragraphs)\n",
        "\n",
        "paragraphs2 = soup.find_all(\"p\", text=re.compile(\"Some\"))\n",
        "print(paragraphs2)\n",
        "\n",
        "headers = soup.find_all(\"h2\", text=re.compile(\"(H|h)eader\"))\n",
        "print(headers)"
      ],
      "execution_count": 41,
      "outputs": [
        {
          "output_type": "stream",
          "text": [
            "[]\n",
            "[<p><i>Some italicized text</i></p>, <p id=\"paragraph-id\"><b>Some bold text</b></p>]\n",
            "[<h2>A Header</h2>, <h2>Another header</h2>]\n"
          ],
          "name": "stdout"
        }
      ]
    },
    {
      "cell_type": "markdown",
      "metadata": {
        "id": "wrZJb70htHOR",
        "colab_type": "text"
      },
      "source": [
        "### Select (CSS selector)\n",
        "useful link: [https://www.w3schools.com/cssref/css_selectors.asp](https://www.w3schools.com/cssref/css_selectors.asp)"
      ]
    },
    {
      "cell_type": "code",
      "metadata": {
        "id": "RoSNXhgmt_c4",
        "colab_type": "code",
        "colab": {}
      },
      "source": [
        "print(soup.body) #simple shorthand\n",
        "print(\"_______________________\")\n",
        "print(soup.body.prettify())"
      ],
      "execution_count": null,
      "outputs": []
    },
    {
      "cell_type": "code",
      "metadata": {
        "id": "FulaQCLPttz1",
        "colab_type": "code",
        "colab": {
          "base_uri": "https://localhost:8080/",
          "height": 0
        },
        "outputId": "a821da9c-3611-4b28-a0ea-4f801b5d513f"
      },
      "source": [
        "content = soup.select(\"p\")\n",
        "print(content)"
      ],
      "execution_count": 42,
      "outputs": [
        {
          "output_type": "stream",
          "text": [
            "[<p>Link to more interesting example: <a href=\"https://keithgalli.github.io/web-scraping/webpage.html\">keithgalli.github.io/web-scraping/webpage.html</a></p>, <p><i>Some italicized text</i></p>, <p id=\"paragraph-id\"><b>Some bold text</b></p>]\n"
          ],
          "name": "stdout"
        }
      ]
    },
    {
      "cell_type": "code",
      "metadata": {
        "id": "NmLgcKp7uZBb",
        "colab_type": "code",
        "colab": {
          "base_uri": "https://localhost:8080/",
          "height": 0
        },
        "outputId": "6b38a94a-e319-4535-a625-61ae265ea635"
      },
      "source": [
        "content2 = soup.select(\"div p\")\n",
        "print(content2)"
      ],
      "execution_count": 46,
      "outputs": [
        {
          "output_type": "stream",
          "text": [
            "[<p>Link to more interesting example: <a href=\"https://keithgalli.github.io/web-scraping/webpage.html\">keithgalli.github.io/web-scraping/webpage.html</a></p>]\n"
          ],
          "name": "stdout"
        }
      ]
    },
    {
      "cell_type": "code",
      "metadata": {
        "id": "ryYRJ_PWuds1",
        "colab_type": "code",
        "colab": {
          "base_uri": "https://localhost:8080/",
          "height": 0
        },
        "outputId": "d0fcadb1-caaa-4f86-85c3-b56c67464507"
      },
      "source": [
        "paragraphs = soup.select(\"h2 ~ p\") # get p directly after h2\n",
        "print(paragraphs)"
      ],
      "execution_count": 48,
      "outputs": [
        {
          "output_type": "stream",
          "text": [
            "[<p><i>Some italicized text</i></p>, <p id=\"paragraph-id\"><b>Some bold text</b></p>]\n"
          ],
          "name": "stdout"
        }
      ]
    },
    {
      "cell_type": "code",
      "metadata": {
        "id": "tgrdQWMRuoeP",
        "colab_type": "code",
        "colab": {
          "base_uri": "https://localhost:8080/",
          "height": 0
        },
        "outputId": "01064c17-e60b-46b1-a68c-677bfb5915ee"
      },
      "source": [
        "bold_text = soup.select(\"p#paragraph-id b\") # search for b under p  with id(paragraph-id) and \n",
        "print(bold_text)"
      ],
      "execution_count": 50,
      "outputs": [
        {
          "output_type": "stream",
          "text": [
            "[<b>Some bold text</b>]\n"
          ],
          "name": "stdout"
        }
      ]
    },
    {
      "cell_type": "code",
      "metadata": {
        "id": "yGrpqEg7vaU4",
        "colab_type": "code",
        "colab": {
          "base_uri": "https://localhost:8080/",
          "height": 0
        },
        "outputId": "e947797c-71cc-445c-edfe-9fd6b047581c"
      },
      "source": [
        "paragraphs = soup.select(\"body > p\")\n",
        "print(paragraphs)\n",
        "\n",
        "for paragraph in paragraphs:\n",
        "  para2 = paragraph.select(\"i\")\n",
        "  print(para2)\n"
      ],
      "execution_count": 53,
      "outputs": [
        {
          "output_type": "stream",
          "text": [
            "[<p><i>Some italicized text</i></p>, <p id=\"paragraph-id\"><b>Some bold text</b></p>]\n",
            "[<i>Some italicized text</i>]\n",
            "[]\n"
          ],
          "name": "stdout"
        }
      ]
    },
    {
      "cell_type": "code",
      "metadata": {
        "id": "4snpU7JZv58L",
        "colab_type": "code",
        "colab": {
          "base_uri": "https://localhost:8080/",
          "height": 0
        },
        "outputId": "ef3476de-0f73-49c2-e536-87a33ca13e23"
      },
      "source": [
        "# Grab element with specific property\n",
        "soup.select(\"[align=middle]\")"
      ],
      "execution_count": 54,
      "outputs": [
        {
          "output_type": "execute_result",
          "data": {
            "text/plain": [
              "[<div align=\"middle\">\n",
              " <h1>HTML Webpage</h1>\n",
              " <p>Link to more interesting example: <a href=\"https://keithgalli.github.io/web-scraping/webpage.html\">keithgalli.github.io/web-scraping/webpage.html</a></p>\n",
              " </div>]"
            ]
          },
          "metadata": {
            "tags": []
          },
          "execution_count": 54
        }
      ]
    },
    {
      "cell_type": "markdown",
      "metadata": {
        "id": "_vJGa_EOvMv3",
        "colab_type": "text"
      },
      "source": [
        "Difference between find/find_all and select: Select is more helpful if you have a specific path you are querying for."
      ]
    },
    {
      "cell_type": "markdown",
      "metadata": {
        "id": "8kxa8C01wH7B",
        "colab_type": "text"
      },
      "source": [
        "### Get different properties of HTML"
      ]
    },
    {
      "cell_type": "code",
      "metadata": {
        "id": "1vUX45T2wT6V",
        "colab_type": "code",
        "colab": {
          "base_uri": "https://localhost:8080/",
          "height": 51
        },
        "outputId": "1eab7d2f-b8d8-49c5-d69d-dc153712b0fc"
      },
      "source": [
        "header = soup.find(\"h2\")\n",
        "print(header)\n",
        "print(header.string)"
      ],
      "execution_count": 55,
      "outputs": [
        {
          "output_type": "stream",
          "text": [
            "<h2>A Header</h2>\n",
            "A Header\n"
          ],
          "name": "stdout"
        }
      ]
    },
    {
      "cell_type": "code",
      "metadata": {
        "id": "EMsprj40whcj",
        "colab_type": "code",
        "colab": {
          "base_uri": "https://localhost:8080/",
          "height": 306
        },
        "outputId": "d825faa5-d544-4af5-f3b1-45b5e85541ac"
      },
      "source": [
        "div = soup.find(\"div\")\n",
        "print(div.prettify())\n",
        "print(div.string) # returns None - cant have any nested html elements \n",
        "print(div.get_text()) # use this to get all available texts\n"
      ],
      "execution_count": 58,
      "outputs": [
        {
          "output_type": "stream",
          "text": [
            "<div align=\"middle\">\n",
            " <h1>\n",
            "  HTML Webpage\n",
            " </h1>\n",
            " <p>\n",
            "  Link to more interesting example:\n",
            "  <a href=\"https://keithgalli.github.io/web-scraping/webpage.html\">\n",
            "   keithgalli.github.io/web-scraping/webpage.html\n",
            "  </a>\n",
            " </p>\n",
            "</div>\n",
            "\n",
            "None\n",
            "\n",
            "HTML Webpage\n",
            "Link to more interesting example: keithgalli.github.io/web-scraping/webpage.html\n",
            "\n"
          ],
          "name": "stdout"
        }
      ]
    },
    {
      "cell_type": "code",
      "metadata": {
        "id": "fVkedlfXw4JL",
        "colab_type": "code",
        "colab": {
          "base_uri": "https://localhost:8080/",
          "height": 85
        },
        "outputId": "bb438b73-7712-4534-86e6-89c76901ba68"
      },
      "source": [
        "# Get a specific property from an element\n",
        "link = soup.find(\"a\")\n",
        "print(link)\n",
        "print(link[\"href\"])\n",
        "\n",
        "paragraphs = soup.select(\"p#paragraph-id\")\n",
        "print(paragraphs)\n",
        "print(paragraphs[0][\"id\"])"
      ],
      "execution_count": 62,
      "outputs": [
        {
          "output_type": "stream",
          "text": [
            "<a href=\"https://keithgalli.github.io/web-scraping/webpage.html\">keithgalli.github.io/web-scraping/webpage.html</a>\n",
            "https://keithgalli.github.io/web-scraping/webpage.html\n",
            "[<p id=\"paragraph-id\"><b>Some bold text</b></p>]\n",
            "paragraph-id\n"
          ],
          "name": "stdout"
        }
      ]
    },
    {
      "cell_type": "code",
      "metadata": {
        "id": "fNpStJN_xc1j",
        "colab_type": "code",
        "colab": {}
      },
      "source": [
        ""
      ],
      "execution_count": null,
      "outputs": []
    },
    {
      "cell_type": "markdown",
      "metadata": {
        "id": "S3uL5y96xkT6",
        "colab_type": "text"
      },
      "source": [
        "### Code Navigation\n"
      ]
    },
    {
      "cell_type": "code",
      "metadata": {
        "id": "O0_ttuWexpEl",
        "colab_type": "code",
        "colab": {
          "base_uri": "https://localhost:8080/",
          "height": 102
        },
        "outputId": "c7d1be26-9458-4155-f1e0-4560b6f54555"
      },
      "source": [
        "# Path Syntax\n",
        "print(soup.body.div)\n",
        "print(soup.body.div.h1.string)"
      ],
      "execution_count": 65,
      "outputs": [
        {
          "output_type": "stream",
          "text": [
            "<div align=\"middle\">\n",
            "<h1>HTML Webpage</h1>\n",
            "<p>Link to more interesting example: <a href=\"https://keithgalli.github.io/web-scraping/webpage.html\">keithgalli.github.io/web-scraping/webpage.html</a></p>\n",
            "</div>\n",
            "HTML Webpage\n"
          ],
          "name": "stdout"
        }
      ]
    },
    {
      "cell_type": "code",
      "metadata": {
        "id": "Y9rTADgqxzgl",
        "colab_type": "code",
        "colab": {
          "base_uri": "https://localhost:8080/",
          "height": 102
        },
        "outputId": "71e3aabe-1a2b-4ee2-e6dc-7a8ef75596b1"
      },
      "source": [
        "# Know the terms: Parent, Sibling, Child\n",
        "print(soup.body.find(\"div\"))\n",
        "print(soup.body.find(\"div\").find_next_siblings())"
      ],
      "execution_count": 69,
      "outputs": [
        {
          "output_type": "stream",
          "text": [
            "<div align=\"middle\">\n",
            "<h1>HTML Webpage</h1>\n",
            "<p>Link to more interesting example: <a href=\"https://keithgalli.github.io/web-scraping/webpage.html\">keithgalli.github.io/web-scraping/webpage.html</a></p>\n",
            "</div>\n",
            "[<h2>A Header</h2>, <p><i>Some italicized text</i></p>, <h2>Another header</h2>, <p id=\"paragraph-id\"><b>Some bold text</b></p>]\n"
          ],
          "name": "stdout"
        }
      ]
    },
    {
      "cell_type": "markdown",
      "metadata": {
        "id": "SzCx7aI2y3Ak",
        "colab_type": "text"
      },
      "source": [
        "## Practices\n",
        "\n",
        "From [https://keithgalli.github.io/web-scraping/webpage.html]()"
      ]
    },
    {
      "cell_type": "markdown",
      "metadata": {
        "id": "0uNQnDARzDlj",
        "colab_type": "text"
      },
      "source": [
        ""
      ]
    },
    {
      "cell_type": "markdown",
      "metadata": {
        "id": "EYfQcdbuzXzV",
        "colab_type": "text"
      },
      "source": [
        "### Load the Webpage"
      ]
    },
    {
      "cell_type": "code",
      "metadata": {
        "id": "53pdahQRzaBm",
        "colab_type": "code",
        "colab": {
          "base_uri": "https://localhost:8080/",
          "height": 1000
        },
        "outputId": "628ef4ba-c937-4acf-de47-318437291282"
      },
      "source": [
        "# Load the sample webpage\n",
        "sample_url = 'https://keithgalli.github.io/web-scraping/webpage.html'\n",
        "r = requests.get(sample_url)\n",
        "\n",
        "# Convert to a beautiful soup object\n",
        "webpage = bs(r.content)\n",
        "print(webpage)"
      ],
      "execution_count": 5,
      "outputs": [
        {
          "output_type": "stream",
          "text": [
            "<html><head>\n",
            "<title>Keith Galli's Page</title>\n",
            "<style>\n",
            "  table {\n",
            "    border-collapse: collapse;\n",
            "  }\n",
            "  th {\n",
            "    padding:5px;\n",
            "  }\n",
            "  td {\n",
            "    border: 1px solid #ddd;\n",
            "    padding: 5px;\n",
            "  }\n",
            "  tr:nth-child(even) {\n",
            "    background-color: #f2f2f2;\n",
            "  }\n",
            "  th {\n",
            "    padding-top: 12px;\n",
            "    padding-bottom: 12px;\n",
            "    text-align: left;\n",
            "    background-color: #add8e6;\n",
            "    color: black;\n",
            "  }\n",
            "  .block {\n",
            "  width: 100px;\n",
            "  /*float: left;*/\n",
            "    display: inline-block;\n",
            "    zoom: 1;\n",
            "  }\n",
            "  .column {\n",
            "  float: left;\n",
            "  height: 200px;\n",
            "  /*width: 33.33%;*/\n",
            "  padding: 5px;\n",
            "  }\n",
            "\n",
            "  .row::after {\n",
            "    content: \"\";\n",
            "    clear: both;\n",
            "    display: table;\n",
            "  }\n",
            "</style>\n",
            "</head>\n",
            "<body>\n",
            "<h1>Welcome to my page!</h1>\n",
            "<img src=\"./images/selfie1.jpg\" width=\"300px\"/>\n",
            "<h2>About me</h2>\n",
            "<p>Hi, my name is Keith and I am a YouTuber who focuses on content related to programming, data science, and machine learning!</p>\n",
            "<p>Here is a link to my channel: <a href=\"https://www.youtube.com/kgmit\">youtube.com/kgmit</a></p>\n",
            "<p>I grew up in the great state of New Hampshire here in the USA. From an early age I always loved math. Around my senior year of high school, my brother first introduced me to programming. I found it a creative way to apply the same type of logical thinking skills that I enjoyed with math. This influenced me to study computer science in college and ultimately create a YouTube channel to share some things that I have learned along the way.</p>\n",
            "<h3>Hobbies</h3>\n",
            "<p>Believe it or not, I don't code 24/7. I love doing all sorts of active things. I like to play ice hockey &amp; table tennis as well as run, hike, skateboard, and snowboard. In addition to sports, I am a board game enthusiast. The two that I've been playing the most recently are <i>Settlers of Catan</i> and <i>Othello</i>.</p>\n",
            "<h3>Fun Facts</h3>\n",
            "<ul class=\"fun-facts\">\n",
            "<li>Owned my dream car in high school <a href=\"#footer\"><sup>1</sup></a></li>\n",
            "<li>Middle name is Ronald</li>\n",
            "<li>Never had been on a plane until college</li>\n",
            "<li>Dunkin Donuts coffee is better than Starbucks</li>\n",
            "<li>A favorite book series of mine is <i>Ender's Game</i></li>\n",
            "<li>Current video game of choice is <i>Rocket League</i></li>\n",
            "<li>The band that I've seen the most times live is the <i>Zac Brown Band</i></li>\n",
            "</ul>\n",
            "<h2>Social Media</h2>\n",
            "  I encourage you to check out my content on all social media platforms\n",
            "  <br/>\n",
            "<ul class=\"socials\">\n",
            "<li class=\"social instagram\"><b>Instagram: </b><a href=\"https://www.instagram.com/keithgalli/\">https://www.instagram.com/keithgalli/</a></li>\n",
            "<li class=\"social twitter\"><b>Twitter: </b><a href=\"https://twitter.com/keithgalli\">https://twitter.com/keithgalli</a></li>\n",
            "<li class=\"social linkedin\"><b>LinkedIn: </b><a href=\"https://www.linkedin.com/in/keithgalli/\">https://www.linkedin.com/in/keithgalli/</a></li>\n",
            "<li class=\"social tiktok\"><b>TikTok: </b><a href=\"https://www.tiktok.com/@keithgalli\">https://www.tiktok.com/@keithgalli</a></li>\n",
            "</ul>\n",
            "<h2>Photos</h2>\n",
            "  Here are a few photos from a trip to italy I took last year\n",
            "  <div class=\"row\">\n",
            "<div class=\"column\">\n",
            "<img alt=\"Lake Como\" src=\"images/italy/lake_como.jpg\" style=\"height:100%\"/>\n",
            "</div>\n",
            "<div class=\"column\">\n",
            "<img alt=\"Pontevecchio, Florence\" src=\"images/italy/pontevecchio.jpg\" style=\"height:100%\"/>\n",
            "</div>\n",
            "<div class=\"column\">\n",
            "<img alt=\"Riomaggiore, Cinque de Terre\" src=\"images/italy/riomaggiore.jpg\" style=\"height:100%\"/>\n",
            "</div>\n",
            "</div>\n",
            "<div></div>\n",
            "<h2> Table </h2>\n",
            "  My MIT hockey stats :) \n",
            "  <br/>\n",
            "<table class=\"hockey-stats\">\n",
            "<thead>\n",
            "<tr>\n",
            "<th class=\"season\" data-sort=\"\">S</th>\n",
            "<th class=\"team\" data-sort=\"team\">Team</th>\n",
            "<th class=\"league\" data-sort=\"league\">League</th>\n",
            "<th class=\"regular gp\" data-sort=\"gp\">GP</th>\n",
            "<th class=\"regular g\" data-sort=\"g\">G</th>\n",
            "<th class=\"regular a\" data-sort=\"a\">A</th>\n",
            "<th class=\"regular tp\" data-sort=\"tp\">TP</th>\n",
            "<th class=\"regular pim\" data-sort=\"pim\">PIM</th>\n",
            "<th class=\"regular pm\" data-sort=\"pm\">+/-</th>\n",
            "<th class=\"separator\"> </th>\n",
            "<th class=\"postseason\">POST</th>\n",
            "<th class=\"postseason gp\" data-sort=\"playoffs-gp\">GP</th>\n",
            "<th class=\"postseason g\" data-sort=\"playoffs-g\">G</th>\n",
            "<th class=\"postseason a\" data-sort=\"playoffs-a\">A</th>\n",
            "<th class=\"postseason tp\" data-sort=\"playoffs-tp\">TP</th>\n",
            "<th class=\"postseason pim\" data-sort=\"playoffs-pim\">PIM</th>\n",
            "<th class=\"postseason pm\" data-sort=\"playoffs-pm\">+/-</th>\n",
            "</tr>\n",
            "</thead>\n",
            "<tbody>\n",
            "<tr class=\"team-continent-NA \">\n",
            "<td class=\"season sorted\">\n",
            "                  2014-15\n",
            "              </td>\n",
            "<td class=\"team\">\n",
            "<i><img src=\"images/flag.png\"/></i>\n",
            "<span class=\"txt-blue\">\n",
            "<a href=\"https://www.eliteprospects.com/team/10263/mit-mass.-inst.-of-tech./2014-2015?tab=stats\"> MIT (Mass. Inst. of Tech.) </a>\n",
            "</span>\n",
            "</td>\n",
            "<td class=\"league\"> <a href=\"https://www.eliteprospects.com/league/acha-ii/stats/2014-2015\"> ACHA II </a> </td>\n",
            "<td class=\"regular gp\">17</td>\n",
            "<td class=\"regular g\">3</td>\n",
            "<td class=\"regular a\">9</td>\n",
            "<td class=\"regular tp\">12</td>\n",
            "<td class=\"regular pim\">20</td>\n",
            "<td class=\"regular pm\"></td>\n",
            "<td class=\"separator\"> | </td>\n",
            "<td class=\"postseason\">\n",
            "<a href=\"https://www.eliteprospects.com/league/acha-ii/stats/2014-2015\"> </a>\n",
            "</td>\n",
            "<td class=\"postseason gp\">\n",
            "</td>\n",
            "<td class=\"postseason g\">\n",
            "</td>\n",
            "<td class=\"postseason a\">\n",
            "</td>\n",
            "<td class=\"postseason tp\">\n",
            "</td>\n",
            "<td class=\"postseason pim\">\n",
            "</td>\n",
            "<td class=\"postseason pm\">\n",
            "</td>\n",
            "</tr>\n",
            "<tr class=\"team-continent-NA \">\n",
            "<td class=\"season sorted\">\n",
            "                  2015-16\n",
            "              </td>\n",
            "<td class=\"team\">\n",
            "<i><img src=\"images/flag.png\"/></i>\n",
            "<span class=\"txt-blue\">\n",
            "<a href=\"https://www.eliteprospects.com/team/10263/mit-mass.-inst.-of-tech./2015-2016?tab=stats\"> MIT (Mass. Inst. of Tech.) </a>\n",
            "</span>\n",
            "</td>\n",
            "<td class=\"league\"> <a href=\"https://www.eliteprospects.com/league/acha-ii/stats/2015-2016\"> ACHA II </a> </td>\n",
            "<td class=\"regular gp\">9</td>\n",
            "<td class=\"regular g\">1</td>\n",
            "<td class=\"regular a\">1</td>\n",
            "<td class=\"regular tp\">2</td>\n",
            "<td class=\"regular pim\">2</td>\n",
            "<td class=\"regular pm\"></td>\n",
            "<td class=\"separator\"> | </td>\n",
            "<td class=\"postseason\">\n",
            "<a href=\"https://www.eliteprospects.com/league/acha-ii/stats/2015-2016\"> </a>\n",
            "</td>\n",
            "<td class=\"postseason gp\">\n",
            "</td>\n",
            "<td class=\"postseason g\">\n",
            "</td>\n",
            "<td class=\"postseason a\">\n",
            "</td>\n",
            "<td class=\"postseason tp\">\n",
            "</td>\n",
            "<td class=\"postseason pim\">\n",
            "</td>\n",
            "<td class=\"postseason pm\">\n",
            "</td>\n",
            "</tr>\n",
            "<tr class=\"team-continent-NA \">\n",
            "<td class=\"season sorted\">\n",
            "                  2016-17\n",
            "              </td>\n",
            "<td class=\"team\">\n",
            "<i><img src=\"images/flag.png\"/></i>\n",
            "<span class=\"txt-blue\">\n",
            "<a href=\"https://www.eliteprospects.com/team/10263/mit-mass.-inst.-of-tech./2016-2017?tab=stats\"> MIT (Mass. Inst. of Tech.) </a>\n",
            "</span>\n",
            "</td>\n",
            "<td class=\"league\"> <a href=\"https://www.eliteprospects.com/league/acha-ii/stats/2016-2017\"> ACHA II </a> </td>\n",
            "<td class=\"regular gp\">12</td>\n",
            "<td class=\"regular g\">5</td>\n",
            "<td class=\"regular a\">5</td>\n",
            "<td class=\"regular tp\">10</td>\n",
            "<td class=\"regular pim\">8</td>\n",
            "<td class=\"regular pm\">0</td>\n",
            "<td class=\"separator\"> | </td>\n",
            "<td class=\"postseason\">\n",
            "</td>\n",
            "<td class=\"postseason gp\">\n",
            "</td>\n",
            "<td class=\"postseason g\">\n",
            "</td>\n",
            "<td class=\"postseason a\">\n",
            "</td>\n",
            "<td class=\"postseason tp\">\n",
            "</td>\n",
            "<td class=\"postseason pim\">\n",
            "</td>\n",
            "<td class=\"postseason pm\">\n",
            "</td>\n",
            "</tr>\n",
            "<tr class=\"team-continent-EU \">\n",
            "<td class=\"season sorted\">\n",
            "                  2017-18\n",
            "              </td>\n",
            "<td class=\"team\">\n",
            "                  Did not play\n",
            "              </td>\n",
            "<td class=\"league\"> <a href=\"https://www.eliteprospects.com/stats\"> </a> </td>\n",
            "<td class=\"regular gp\"></td>\n",
            "<td class=\"regular g\"></td>\n",
            "<td class=\"regular a\"></td>\n",
            "<td class=\"regular tp\"></td>\n",
            "<td class=\"regular pim\"></td>\n",
            "<td class=\"regular pm\"></td>\n",
            "<td class=\"separator\"> | </td>\n",
            "<td class=\"postseason\">\n",
            "<a href=\"https://www.eliteprospects.com/stats\"> </a>\n",
            "</td>\n",
            "<td class=\"postseason gp\">\n",
            "</td>\n",
            "<td class=\"postseason g\">\n",
            "</td>\n",
            "<td class=\"postseason a\">\n",
            "</td>\n",
            "<td class=\"postseason tp\">\n",
            "</td>\n",
            "<td class=\"postseason pim\">\n",
            "</td>\n",
            "<td class=\"postseason pm\">\n",
            "</td>\n",
            "</tr>\n",
            "<tr class=\"team-continent-NA \">\n",
            "<td class=\"season sorted\">\n",
            "                  2018-19\n",
            "              </td>\n",
            "<td class=\"team\">\n",
            "<i><img src=\"images/flag.png\"/></i>\n",
            "<span class=\"txt-blue\">\n",
            "<a href=\"https://www.eliteprospects.com/team/10263/mit-mass.-inst.-of-tech./2018-2019?tab=stats\"> MIT (Mass. Inst. of Tech.) </a>\n",
            "</span>\n",
            "</td>\n",
            "<td class=\"league\"> <a href=\"https://www.eliteprospects.com/league/acha-iii/stats/2018-2019\"> ACHA III </a> </td>\n",
            "<td class=\"regular gp\">8</td>\n",
            "<td class=\"regular g\">5</td>\n",
            "<td class=\"regular a\">10</td>\n",
            "<td class=\"regular tp\">15</td>\n",
            "<td class=\"regular pim\">8</td>\n",
            "<td class=\"regular pm\"></td>\n",
            "<td class=\"separator\"> | </td>\n",
            "<td class=\"postseason\">\n",
            "<a href=\"https://www.eliteprospects.com/league/acha-iii/stats/2018-2019\"> </a>\n",
            "</td>\n",
            "<td class=\"postseason gp\">\n",
            "</td>\n",
            "<td class=\"postseason g\">\n",
            "</td>\n",
            "<td class=\"postseason a\">\n",
            "</td>\n",
            "<td class=\"postseason tp\">\n",
            "</td>\n",
            "<td class=\"postseason pim\">\n",
            "</td>\n",
            "<td class=\"postseason pm\">\n",
            "</td>\n",
            "</tr>\n",
            "</tbody>\n",
            "</table>\n",
            "<h2>Mystery Message Challenge!</h2>\n",
            "<p>If you scrape the links below grabbing the &lt;p&gt; tag with id=\"secret-word\", you'll discover a secret message :)</p>\n",
            "<div width=\"50%\">\n",
            "<div align=\"left\" class=\"block\">\n",
            "<ul>\n",
            "<li><a href=\"challenge/file_1.html\">File 1</a></li>\n",
            "<li><a href=\"challenge/file_2.html\">File 2</a></li>\n",
            "<li><a href=\"challenge/file_3.html\">File 3</a></li>\n",
            "<li><a href=\"challenge/file_4.html\">File 4</a></li>\n",
            "<li><a href=\"challenge/file_5.html\">File 5</a></li>\n",
            "</ul>\n",
            "</div>\n",
            "<div align=\"center\" class=\"block\">\n",
            "<ul>\n",
            "<li><a href=\"challenge/file_6.html\">File 6</a></li>\n",
            "<li><a href=\"challenge/file_7.html\">File 7</a></li>\n",
            "<li><a href=\"challenge/file_8.html\">File 8</a></li>\n",
            "<li><a href=\"challenge/file_9.html\">File 9</a></li>\n",
            "<li><a href=\"challenge/file_10.html\">File 10</a></li>\n",
            "</ul>\n",
            "</div>\n",
            "</div>\n",
            "<h2>Footnotes</h2>\n",
            "<p id=\"footer\">1. This was actually a minivan that I named Debora. Maybe not my dream car, but I loved her nonetheless.</p>\n",
            "</body>\n",
            "</html>\n"
          ],
          "name": "stdout"
        }
      ]
    },
    {
      "cell_type": "code",
      "metadata": {
        "id": "DxR2HUZqzoIr",
        "colab_type": "code",
        "colab": {}
      },
      "source": [
        "# Take a look at the html\n",
        "print(webpage.prettify())"
      ],
      "execution_count": null,
      "outputs": []
    },
    {
      "cell_type": "markdown",
      "metadata": {
        "id": "qfJ7ccHVz3Da",
        "colab_type": "text"
      },
      "source": [
        "### 1. Grab all of the social links from the webpage\n",
        "(do in 3 different ways)\n"
      ]
    },
    {
      "cell_type": "code",
      "metadata": {
        "id": "xcfdw39pi_A9",
        "colab_type": "code",
        "colab": {
          "base_uri": "https://localhost:8080/",
          "height": 71
        },
        "outputId": "54aceaf1-f3b7-405d-f79a-2cc96cf21942"
      },
      "source": [
        "# Method 1\n",
        "links = webpage.select(\"ul.socials a\")\n",
        "print(links)\n",
        "actual_links = [link['href'] for link in links]\n",
        "print(actual_links)"
      ],
      "execution_count": 7,
      "outputs": [
        {
          "output_type": "stream",
          "text": [
            "[<a href=\"https://www.instagram.com/keithgalli/\">https://www.instagram.com/keithgalli/</a>, <a href=\"https://twitter.com/keithgalli\">https://twitter.com/keithgalli</a>, <a href=\"https://www.linkedin.com/in/keithgalli/\">https://www.linkedin.com/in/keithgalli/</a>, <a href=\"https://www.tiktok.com/@keithgalli\">https://www.tiktok.com/@keithgalli</a>]\n",
            "['https://www.instagram.com/keithgalli/', 'https://twitter.com/keithgalli', 'https://www.linkedin.com/in/keithgalli/', 'https://www.tiktok.com/@keithgalli']\n"
          ],
          "name": "stdout"
        }
      ]
    },
    {
      "cell_type": "code",
      "metadata": {
        "id": "toF7TQ9EjpSl",
        "colab_type": "code",
        "colab": {
          "base_uri": "https://localhost:8080/",
          "height": 71
        },
        "outputId": "7696a139-2c09-4beb-c820-c9ce98051b45"
      },
      "source": [
        "# Method 2\n",
        "ulist = webpage.find(\"ul\", attrs={\"class\":\"socials\"})\n",
        "links = ulist.find_all(\"a\")\n",
        "print(links)\n",
        "\n",
        "actual_links = [link['href'] for link in links]\n",
        "print(actual_links)"
      ],
      "execution_count": 10,
      "outputs": [
        {
          "output_type": "stream",
          "text": [
            "[<a href=\"https://www.instagram.com/keithgalli/\">https://www.instagram.com/keithgalli/</a>, <a href=\"https://twitter.com/keithgalli\">https://twitter.com/keithgalli</a>, <a href=\"https://www.linkedin.com/in/keithgalli/\">https://www.linkedin.com/in/keithgalli/</a>, <a href=\"https://www.tiktok.com/@keithgalli\">https://www.tiktok.com/@keithgalli</a>]\n",
            "['https://www.instagram.com/keithgalli/', 'https://twitter.com/keithgalli', 'https://www.linkedin.com/in/keithgalli/', 'https://www.tiktok.com/@keithgalli']\n"
          ],
          "name": "stdout"
        }
      ]
    },
    {
      "cell_type": "code",
      "metadata": {
        "id": "PrA4trkUkeoa",
        "colab_type": "code",
        "colab": {
          "base_uri": "https://localhost:8080/",
          "height": 71
        },
        "outputId": "d27f1ba6-7276-4dd7-b150-58cb60c1b5bd"
      },
      "source": [
        "# Method 3\n",
        "links = webpage.select(\"li.social a\")\n",
        "print(links)\n",
        "\n",
        "actual_links = [link['href'] for link in links]\n",
        "print(actual_links)"
      ],
      "execution_count": 14,
      "outputs": [
        {
          "output_type": "stream",
          "text": [
            "[<a href=\"https://www.instagram.com/keithgalli/\">https://www.instagram.com/keithgalli/</a>, <a href=\"https://twitter.com/keithgalli\">https://twitter.com/keithgalli</a>, <a href=\"https://www.linkedin.com/in/keithgalli/\">https://www.linkedin.com/in/keithgalli/</a>, <a href=\"https://www.tiktok.com/@keithgalli\">https://www.tiktok.com/@keithgalli</a>]\n",
            "['https://www.instagram.com/keithgalli/', 'https://twitter.com/keithgalli', 'https://www.linkedin.com/in/keithgalli/', 'https://www.tiktok.com/@keithgalli']\n"
          ],
          "name": "stdout"
        }
      ]
    },
    {
      "cell_type": "markdown",
      "metadata": {
        "id": "sIZJ9bOxk0W_",
        "colab_type": "text"
      },
      "source": [
        "### 2. Scrape a Table in the webpage"
      ]
    },
    {
      "cell_type": "code",
      "metadata": {
        "id": "mVx9gzaXl61Y",
        "colab_type": "code",
        "colab": {}
      },
      "source": [
        "# For reference to scrape tables into dataframe with BeautifulSoup\n",
        "'''\n",
        "l = []\n",
        "for tr in table_rows:\n",
        "    td = tr.find_all('td')\n",
        "    row = [tr.text for tr in td]\n",
        "    l.append(row)\n",
        "pd.DataFrame(l, columns=[\"A\", \"B\", ...])\n",
        "'''"
      ],
      "execution_count": null,
      "outputs": []
    },
    {
      "cell_type": "code",
      "metadata": {
        "id": "nNDnnKppk4H9",
        "colab_type": "code",
        "colab": {
          "base_uri": "https://localhost:8080/",
          "height": 204
        },
        "outputId": "9480dbe0-2398-43ca-f18a-4ca3980f6957"
      },
      "source": [
        "import pandas as pd\n",
        "\n",
        "table = webpage.select(\"table.hockey-stats\")[0]\n",
        "columns = table.find(\"thead\").find_all(\"th\")\n",
        "column_names = [c.string for c in columns]\n",
        "\n",
        "# Add into Pandas Dataframe\n",
        "l = []\n",
        "table_rows = table.find(\"tbody\").find_all(\"tr\")\n",
        "for tr in table_rows:\n",
        "    td = tr.find_all('td')\n",
        "    row = [str(tr.get_text()).strip() for tr in td]\n",
        "    l.append(row)\n",
        "df = pd.DataFrame(l, columns=column_names)\n",
        "df"
      ],
      "execution_count": 25,
      "outputs": [
        {
          "output_type": "execute_result",
          "data": {
            "text/html": [
              "<div>\n",
              "<style scoped>\n",
              "    .dataframe tbody tr th:only-of-type {\n",
              "        vertical-align: middle;\n",
              "    }\n",
              "\n",
              "    .dataframe tbody tr th {\n",
              "        vertical-align: top;\n",
              "    }\n",
              "\n",
              "    .dataframe thead th {\n",
              "        text-align: right;\n",
              "    }\n",
              "</style>\n",
              "<table border=\"1\" class=\"dataframe\">\n",
              "  <thead>\n",
              "    <tr style=\"text-align: right;\">\n",
              "      <th></th>\n",
              "      <th>S</th>\n",
              "      <th>Team</th>\n",
              "      <th>League</th>\n",
              "      <th>GP</th>\n",
              "      <th>G</th>\n",
              "      <th>A</th>\n",
              "      <th>TP</th>\n",
              "      <th>PIM</th>\n",
              "      <th>+/-</th>\n",
              "      <th></th>\n",
              "      <th>POST</th>\n",
              "      <th>GP</th>\n",
              "      <th>G</th>\n",
              "      <th>A</th>\n",
              "      <th>TP</th>\n",
              "      <th>PIM</th>\n",
              "      <th>+/-</th>\n",
              "    </tr>\n",
              "  </thead>\n",
              "  <tbody>\n",
              "    <tr>\n",
              "      <th>0</th>\n",
              "      <td>2014-15</td>\n",
              "      <td>MIT (Mass. Inst. of Tech.)</td>\n",
              "      <td>ACHA II</td>\n",
              "      <td>17</td>\n",
              "      <td>3</td>\n",
              "      <td>9</td>\n",
              "      <td>12</td>\n",
              "      <td>20</td>\n",
              "      <td></td>\n",
              "      <td>|</td>\n",
              "      <td></td>\n",
              "      <td></td>\n",
              "      <td></td>\n",
              "      <td></td>\n",
              "      <td></td>\n",
              "      <td></td>\n",
              "      <td></td>\n",
              "    </tr>\n",
              "    <tr>\n",
              "      <th>1</th>\n",
              "      <td>2015-16</td>\n",
              "      <td>MIT (Mass. Inst. of Tech.)</td>\n",
              "      <td>ACHA II</td>\n",
              "      <td>9</td>\n",
              "      <td>1</td>\n",
              "      <td>1</td>\n",
              "      <td>2</td>\n",
              "      <td>2</td>\n",
              "      <td></td>\n",
              "      <td>|</td>\n",
              "      <td></td>\n",
              "      <td></td>\n",
              "      <td></td>\n",
              "      <td></td>\n",
              "      <td></td>\n",
              "      <td></td>\n",
              "      <td></td>\n",
              "    </tr>\n",
              "    <tr>\n",
              "      <th>2</th>\n",
              "      <td>2016-17</td>\n",
              "      <td>MIT (Mass. Inst. of Tech.)</td>\n",
              "      <td>ACHA II</td>\n",
              "      <td>12</td>\n",
              "      <td>5</td>\n",
              "      <td>5</td>\n",
              "      <td>10</td>\n",
              "      <td>8</td>\n",
              "      <td>0</td>\n",
              "      <td>|</td>\n",
              "      <td></td>\n",
              "      <td></td>\n",
              "      <td></td>\n",
              "      <td></td>\n",
              "      <td></td>\n",
              "      <td></td>\n",
              "      <td></td>\n",
              "    </tr>\n",
              "    <tr>\n",
              "      <th>3</th>\n",
              "      <td>2017-18</td>\n",
              "      <td>Did not play</td>\n",
              "      <td></td>\n",
              "      <td></td>\n",
              "      <td></td>\n",
              "      <td></td>\n",
              "      <td></td>\n",
              "      <td></td>\n",
              "      <td></td>\n",
              "      <td>|</td>\n",
              "      <td></td>\n",
              "      <td></td>\n",
              "      <td></td>\n",
              "      <td></td>\n",
              "      <td></td>\n",
              "      <td></td>\n",
              "      <td></td>\n",
              "    </tr>\n",
              "    <tr>\n",
              "      <th>4</th>\n",
              "      <td>2018-19</td>\n",
              "      <td>MIT (Mass. Inst. of Tech.)</td>\n",
              "      <td>ACHA III</td>\n",
              "      <td>8</td>\n",
              "      <td>5</td>\n",
              "      <td>10</td>\n",
              "      <td>15</td>\n",
              "      <td>8</td>\n",
              "      <td></td>\n",
              "      <td>|</td>\n",
              "      <td></td>\n",
              "      <td></td>\n",
              "      <td></td>\n",
              "      <td></td>\n",
              "      <td></td>\n",
              "      <td></td>\n",
              "      <td></td>\n",
              "    </tr>\n",
              "  </tbody>\n",
              "</table>\n",
              "</div>"
            ],
            "text/plain": [
              "         S                        Team    League  GP  G   A  ... GP G A TP PIM +/-\n",
              "0  2014-15  MIT (Mass. Inst. of Tech.)   ACHA II  17  3   9  ...                  \n",
              "1  2015-16  MIT (Mass. Inst. of Tech.)   ACHA II   9  1   1  ...                  \n",
              "2  2016-17  MIT (Mass. Inst. of Tech.)   ACHA II  12  5   5  ...                  \n",
              "3  2017-18                Did not play                       ...                  \n",
              "4  2018-19  MIT (Mass. Inst. of Tech.)  ACHA III   8  5  10  ...                  \n",
              "\n",
              "[5 rows x 17 columns]"
            ]
          },
          "metadata": {
            "tags": []
          },
          "execution_count": 25
        }
      ]
    },
    {
      "cell_type": "markdown",
      "metadata": {
        "id": "F-PdOq2IoJy2",
        "colab_type": "text"
      },
      "source": [
        "### 3. Grab all the Fun Facts with the word \"is\""
      ]
    },
    {
      "cell_type": "code",
      "metadata": {
        "id": "OINXJrf0obxn",
        "colab_type": "code",
        "colab": {
          "base_uri": "https://localhost:8080/",
          "height": 71
        },
        "outputId": "5fe9a591-3d81-4333-d4e6-eb6e2d349335"
      },
      "source": [
        "import re\n",
        "facts = webpage.select(\"ul.fun-facts li\")\n",
        "print(facts)\n",
        "\n",
        "facts_with_is =[ fact.find(string=re.compile(\"is\")) for fact in facts ]\n",
        "facts_with_is = [fact.find_parent().get_text() for fact in facts_with_is if fact] # remove None objects\n",
        "print(facts_with_is)"
      ],
      "execution_count": 16,
      "outputs": [
        {
          "output_type": "stream",
          "text": [
            "[<li>Owned my dream car in high school <a href=\"#footer\"><sup>1</sup></a></li>, <li>Middle name is Ronald</li>, <li>Never had been on a plane until college</li>, <li>Dunkin Donuts coffee is better than Starbucks</li>, <li>A favorite book series of mine is <i>Ender's Game</i></li>, <li>Current video game of choice is <i>Rocket League</i></li>, <li>The band that I've seen the most times live is the <i>Zac Brown Band</i></li>]\n",
            "['Middle name is Ronald', 'Dunkin Donuts coffee is better than Starbucks', \"A favorite book series of mine is Ender's Game\", 'Current video game of choice is Rocket League', \"The band that I've seen the most times live is the Zac Brown Band\"]\n"
          ],
          "name": "stdout"
        }
      ]
    },
    {
      "cell_type": "code",
      "metadata": {
        "id": "pFmhyaiPseHw",
        "colab_type": "code",
        "colab": {}
      },
      "source": [
        "### 4. Download an image"
      ],
      "execution_count": null,
      "outputs": []
    },
    {
      "cell_type": "code",
      "metadata": {
        "id": "FOPOC3bMsgGo",
        "colab_type": "code",
        "colab": {
          "base_uri": "https://localhost:8080/",
          "height": 51
        },
        "outputId": "600d5dbe-8205-41a1-9a8e-509d7f3ad555"
      },
      "source": [
        "import os     \n",
        "print(os.getcwd())\n",
        "print( os.listdir() )"
      ],
      "execution_count": 20,
      "outputs": [
        {
          "output_type": "stream",
          "text": [
            "/content\n",
            "['.config', 'sample_data']\n"
          ],
          "name": "stdout"
        }
      ]
    },
    {
      "cell_type": "code",
      "metadata": {
        "id": "bTyODleXtwXC",
        "colab_type": "code",
        "colab": {
          "base_uri": "https://localhost:8080/",
          "height": 17
        },
        "outputId": "fa55c56d-2831-4082-cc58-5478c6197d58"
      },
      "source": [
        "# To download to Local\n",
        "from google.colab import files\n",
        "\n",
        "with open('example.txt', 'w') as f:\n",
        "  f.write('some content')\n",
        "\n",
        "files.download('example.txt')"
      ],
      "execution_count": 23,
      "outputs": [
        {
          "output_type": "display_data",
          "data": {
            "application/javascript": [
              "\n",
              "    async function download(id, filename, size) {\n",
              "      if (!google.colab.kernel.accessAllowed) {\n",
              "        return;\n",
              "      }\n",
              "      const div = document.createElement('div');\n",
              "      const label = document.createElement('label');\n",
              "      label.textContent = `Downloading \"${filename}\": `;\n",
              "      div.appendChild(label);\n",
              "      const progress = document.createElement('progress');\n",
              "      progress.max = size;\n",
              "      div.appendChild(progress);\n",
              "      document.body.appendChild(div);\n",
              "\n",
              "      const buffers = [];\n",
              "      let downloaded = 0;\n",
              "\n",
              "      const channel = await google.colab.kernel.comms.open(id);\n",
              "      // Send a message to notify the kernel that we're ready.\n",
              "      channel.send({})\n",
              "\n",
              "      for await (const message of channel.messages) {\n",
              "        // Send a message to notify the kernel that we're ready.\n",
              "        channel.send({})\n",
              "        if (message.buffers) {\n",
              "          for (const buffer of message.buffers) {\n",
              "            buffers.push(buffer);\n",
              "            downloaded += buffer.byteLength;\n",
              "            progress.value = downloaded;\n",
              "          }\n",
              "        }\n",
              "      }\n",
              "      const blob = new Blob(buffers, {type: 'application/binary'});\n",
              "      const a = document.createElement('a');\n",
              "      a.href = window.URL.createObjectURL(blob);\n",
              "      a.download = filename;\n",
              "      div.appendChild(a);\n",
              "      a.click();\n",
              "      div.remove();\n",
              "    }\n",
              "  "
            ],
            "text/plain": [
              "<IPython.core.display.Javascript object>"
            ]
          },
          "metadata": {
            "tags": []
          }
        },
        {
          "output_type": "display_data",
          "data": {
            "application/javascript": [
              "download(\"download_20eeefa4-e419-419f-9724-ca08e0623846\", \"example.txt\", 12)"
            ],
            "text/plain": [
              "<IPython.core.display.Javascript object>"
            ]
          },
          "metadata": {
            "tags": []
          }
        }
      ]
    },
    {
      "cell_type": "code",
      "metadata": {
        "id": "SG16o1Uzu4pk",
        "colab_type": "code",
        "colab": {
          "base_uri": "https://localhost:8080/",
          "height": 122
        },
        "outputId": "a7640d60-851c-486d-8f98-2a6dd35db0b4"
      },
      "source": [
        "# To download to googledrive\n",
        "from google.colab import drive\n",
        "drive.mount('/content/drive')"
      ],
      "execution_count": 24,
      "outputs": [
        {
          "output_type": "stream",
          "text": [
            "Go to this URL in a browser: https://accounts.google.com/o/oauth2/auth?client_id=947318989803-6bn6qk8qdgf4n4g3pfee6491hc0brc4i.apps.googleusercontent.com&redirect_uri=urn%3aietf%3awg%3aoauth%3a2.0%3aoob&response_type=code&scope=email%20https%3a%2f%2fwww.googleapis.com%2fauth%2fdocs.test%20https%3a%2f%2fwww.googleapis.com%2fauth%2fdrive%20https%3a%2f%2fwww.googleapis.com%2fauth%2fdrive.photos.readonly%20https%3a%2f%2fwww.googleapis.com%2fauth%2fpeopleapi.readonly\n",
            "\n",
            "Enter your authorization code:\n",
            "··········\n",
            "Mounted at /content/drive\n"
          ],
          "name": "stdout"
        }
      ]
    },
    {
      "cell_type": "code",
      "metadata": {
        "id": "knFXIZWhvK_A",
        "colab_type": "code",
        "colab": {
          "base_uri": "https://localhost:8080/",
          "height": 34
        },
        "outputId": "cfc0be13-14a0-4221-bebd-be73098b422a"
      },
      "source": [
        "with open('/content/drive/My Drive/Colab Notebooks/assets/foo.txt', 'w') as f:\n",
        "  f.write('Hello Google Drive!')\n",
        "!cat /content/drive/My\\ Drive//Colab\\ Notebooks/assets/foo.txt"
      ],
      "execution_count": 25,
      "outputs": [
        {
          "output_type": "stream",
          "text": [
            "Hello Google Drive!"
          ],
          "name": "stdout"
        }
      ]
    },
    {
      "cell_type": "code",
      "metadata": {
        "id": "8CDsnCq4vhNg",
        "colab_type": "code",
        "colab": {}
      },
      "source": [
        ""
      ],
      "execution_count": null,
      "outputs": []
    },
    {
      "cell_type": "markdown",
      "metadata": {
        "id": "e42Ww5Xuvnfq",
        "colab_type": "text"
      },
      "source": [
        "### 4. Download an Image"
      ]
    },
    {
      "cell_type": "code",
      "metadata": {
        "id": "YxL22VkSvpbf",
        "colab_type": "code",
        "colab": {}
      },
      "source": [
        "import requests\n",
        "from bs4 import BeautifulSoup as bs4\n",
        "\n",
        "# Load webpage content\n",
        "url = \"https://keithgalli.github.io/web-scraping/\"\n",
        "r = requests.get(url+\"webpage.html\")\n",
        "\n",
        "webpage = bs(r.content)"
      ],
      "execution_count": 28,
      "outputs": []
    },
    {
      "cell_type": "code",
      "metadata": {
        "id": "ZjTFKl86wjst",
        "colab_type": "code",
        "colab": {
          "base_uri": "https://localhost:8080/",
          "height": 34
        },
        "outputId": "a61b4fec-6340-464f-db47-473c4726c3f6"
      },
      "source": [
        "images = webpage.select(\"div.row div.column img\")\n",
        "image_url = images[0]['src'] #just print the first image for demo purpose\n",
        "print(image_url)\n",
        "\n",
        "full_url = url + image_url\n",
        "\n",
        "# Download - either local or gdrive\n",
        "img_data = requests.get(full_url).content\n",
        "with open('sample_img.jpg', 'wb') as handler:\n",
        "  handler.write(img_data)\n",
        "from google.colab import files\n",
        "files.download('sample_img.jpg')"
      ],
      "execution_count": 36,
      "outputs": [
        {
          "output_type": "stream",
          "text": [
            "images/italy/lake_como.jpg\n"
          ],
          "name": "stdout"
        },
        {
          "output_type": "display_data",
          "data": {
            "application/javascript": [
              "\n",
              "    async function download(id, filename, size) {\n",
              "      if (!google.colab.kernel.accessAllowed) {\n",
              "        return;\n",
              "      }\n",
              "      const div = document.createElement('div');\n",
              "      const label = document.createElement('label');\n",
              "      label.textContent = `Downloading \"${filename}\": `;\n",
              "      div.appendChild(label);\n",
              "      const progress = document.createElement('progress');\n",
              "      progress.max = size;\n",
              "      div.appendChild(progress);\n",
              "      document.body.appendChild(div);\n",
              "\n",
              "      const buffers = [];\n",
              "      let downloaded = 0;\n",
              "\n",
              "      const channel = await google.colab.kernel.comms.open(id);\n",
              "      // Send a message to notify the kernel that we're ready.\n",
              "      channel.send({})\n",
              "\n",
              "      for await (const message of channel.messages) {\n",
              "        // Send a message to notify the kernel that we're ready.\n",
              "        channel.send({})\n",
              "        if (message.buffers) {\n",
              "          for (const buffer of message.buffers) {\n",
              "            buffers.push(buffer);\n",
              "            downloaded += buffer.byteLength;\n",
              "            progress.value = downloaded;\n",
              "          }\n",
              "        }\n",
              "      }\n",
              "      const blob = new Blob(buffers, {type: 'application/binary'});\n",
              "      const a = document.createElement('a');\n",
              "      a.href = window.URL.createObjectURL(blob);\n",
              "      a.download = filename;\n",
              "      div.appendChild(a);\n",
              "      a.click();\n",
              "      div.remove();\n",
              "    }\n",
              "  "
            ],
            "text/plain": [
              "<IPython.core.display.Javascript object>"
            ]
          },
          "metadata": {
            "tags": []
          }
        },
        {
          "output_type": "display_data",
          "data": {
            "application/javascript": [
              "download(\"download_49c551fd-1afa-4a08-9a78-fb0603241647\", \"sample_img.jpg\", 1369133)"
            ],
            "text/plain": [
              "<IPython.core.display.Javascript object>"
            ]
          },
          "metadata": {
            "tags": []
          }
        }
      ]
    },
    {
      "cell_type": "code",
      "metadata": {
        "id": "ZfgEnZsDx0Ix",
        "colab_type": "code",
        "colab": {}
      },
      "source": [
        "### 5. Custom Scraping"
      ],
      "execution_count": null,
      "outputs": []
    },
    {
      "cell_type": "code",
      "metadata": {
        "id": "9AHG1QEByOzT",
        "colab_type": "code",
        "colab": {
          "base_uri": "https://localhost:8080/",
          "height": 187
        },
        "outputId": "f791c1a3-62aa-4519-bbac-d99f4b4cc0c1"
      },
      "source": [
        "files = webpage.select(\"div.block a\")\n",
        "relative_files = [f['href'] for f in files]\n",
        "#print(relative_files)\n",
        "\n",
        "url = \"https://keithgalli.github.io/web-scraping/\"\n",
        "for f in relative_files:\n",
        "  full_url = url + f\n",
        "  page = requests.get(full_url)\n",
        "  bs_page = bs(page.content)\n",
        "  #print(bs_page.body.prettify())\n",
        "  secret_word_element = bs_page.find(\"p\", attrs={\"id\":\"secret-word\"})\n",
        "  secret_word = secret_word_element.string\n",
        "  print(secret_word)\n",
        "  "
      ],
      "execution_count": 49,
      "outputs": [
        {
          "output_type": "stream",
          "text": [
            "Make\n",
            "sure\n",
            "to\n",
            "smash\n",
            "that\n",
            "like\n",
            "button\n",
            "and\n",
            "subscribe\n",
            "!!!\n"
          ],
          "name": "stdout"
        }
      ]
    },
    {
      "cell_type": "markdown",
      "metadata": {
        "id": "6TsCqAkV0Z89",
        "colab_type": "text"
      },
      "source": [
        "Credits: Keith Galli"
      ]
    }
  ]
}