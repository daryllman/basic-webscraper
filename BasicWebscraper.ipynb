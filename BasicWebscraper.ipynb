{
  "nbformat": 4,
  "nbformat_minor": 0,
  "metadata": {
    "colab": {
      "name": "BasicWebscraper.ipynb",
      "provenance": [],
      "collapsed_sections": [],
      "authorship_tag": "ABX9TyPaC8NEJknnr1f2gRqZVDJI",
      "include_colab_link": true
    },
    "kernelspec": {
      "name": "python3",
      "display_name": "Python 3"
    },
    "accelerator": "GPU"
  },
  "cells": [
    {
      "cell_type": "markdown",
      "metadata": {
        "id": "view-in-github",
        "colab_type": "text"
      },
      "source": [
        "<a href=\"https://colab.research.google.com/github/daryllman/basic-webscraper/blob/master/BasicWebscraper.ipynb\" target=\"_parent\"><img src=\"https://colab.research.google.com/assets/colab-badge.svg\" alt=\"Open In Colab\"/></a>"
      ]
    },
    {
      "cell_type": "markdown",
      "metadata": {
        "id": "sMZsdzc_odAT",
        "colab_type": "text"
      },
      "source": [
        "## Load in the necessary libraries"
      ]
    },
    {
      "cell_type": "code",
      "metadata": {
        "id": "MUfKeC9NlP0H",
        "colab_type": "code",
        "colab": {}
      },
      "source": [
        "import requests\n",
        "from bs4 import BeautifulSoup as bs #pip install beautifulsoup4"
      ],
      "execution_count": 2,
      "outputs": []
    },
    {
      "cell_type": "code",
      "metadata": {
        "id": "0jKHHzrhoX4n",
        "colab_type": "code",
        "colab": {}
      },
      "source": [
        ""
      ],
      "execution_count": null,
      "outputs": []
    },
    {
      "cell_type": "markdown",
      "metadata": {
        "id": "ifH54QbgonXf",
        "colab_type": "text"
      },
      "source": [
        "## Load sample webpage content\n",
        "\n"
      ]
    },
    {
      "cell_type": "code",
      "metadata": {
        "id": "zbnEduH_pA_K",
        "colab_type": "code",
        "colab": {}
      },
      "source": [
        "# Load the sample webpage\n",
        "sample_url = 'https://keithgalli.github.io/web-scraping/example.html'\n",
        "r = requests.get(sample_url)\n",
        "\n",
        "# Convert to a beautiful soup object\n",
        "soup = bs(r.content)"
      ],
      "execution_count": 7,
      "outputs": []
    },
    {
      "cell_type": "code",
      "metadata": {
        "id": "eUXPrkmFpQ7j",
        "colab_type": "code",
        "colab": {}
      },
      "source": [
        "#print(r.content)\n",
        "#print(soup)\n",
        "print(soup.prettify())"
      ],
      "execution_count": null,
      "outputs": []
    },
    {
      "cell_type": "markdown",
      "metadata": {
        "id": "sZCk6iIiqLIM",
        "colab_type": "text"
      },
      "source": [
        "## Using Beautiful Soup"
      ]
    },
    {
      "cell_type": "markdown",
      "metadata": {
        "id": "TW2PKcvHqQBw",
        "colab_type": "text"
      },
      "source": [
        "### find() & find_all()"
      ]
    },
    {
      "cell_type": "code",
      "metadata": {
        "id": "SKAGwwnQqOMr",
        "colab_type": "code",
        "colab": {
          "base_uri": "https://localhost:8080/",
          "height": 34
        },
        "outputId": "490c8eea-c1a7-46be-c75e-46025ec589c0"
      },
      "source": [
        "first_header = soup.find(\"h2\")\n",
        "print(first_header)"
      ],
      "execution_count": 19,
      "outputs": [
        {
          "output_type": "stream",
          "text": [
            "<h2>A Header</h2>\n"
          ],
          "name": "stdout"
        }
      ]
    },
    {
      "cell_type": "code",
      "metadata": {
        "id": "CpvaNgxiqqur",
        "colab_type": "code",
        "colab": {
          "base_uri": "https://localhost:8080/",
          "height": 34
        },
        "outputId": "5ab69e63-4174-475c-b570-26e1cd7878df"
      },
      "source": [
        "headers = soup.find_all(\"h2\")\n",
        "print(headers)"
      ],
      "execution_count": 23,
      "outputs": [
        {
          "output_type": "stream",
          "text": [
            "[<h2>A Header</h2>, <h2>Another header</h2>]\n"
          ],
          "name": "stdout"
        }
      ]
    },
    {
      "cell_type": "code",
      "metadata": {
        "id": "oy9SAO28q2tb",
        "colab_type": "code",
        "colab": {
          "base_uri": "https://localhost:8080/",
          "height": 34
        },
        "outputId": "84dcd171-ebc0-4837-8b38-196add9dea95"
      },
      "source": [
        "# Pass in a list of elements to look for\n",
        "first_header = soup.find([\"h1\", \"h2\"])\n",
        "print(first_header)"
      ],
      "execution_count": 24,
      "outputs": [
        {
          "output_type": "stream",
          "text": [
            "<h1>HTML Webpage</h1>\n"
          ],
          "name": "stdout"
        }
      ]
    },
    {
      "cell_type": "code",
      "metadata": {
        "id": "uZXlD9YmrECc",
        "colab_type": "code",
        "colab": {
          "base_uri": "https://localhost:8080/",
          "height": 34
        },
        "outputId": "c581633f-e6a9-4268-97f7-1aeb1ff87c83"
      },
      "source": [
        "headers = soup.find_all([\"h1\", \"h2\"])\n",
        "print(headers)"
      ],
      "execution_count": 27,
      "outputs": [
        {
          "output_type": "stream",
          "text": [
            "[<h1>HTML Webpage</h1>, <h2>A Header</h2>, <h2>Another header</h2>]\n"
          ],
          "name": "stdout"
        }
      ]
    },
    {
      "cell_type": "code",
      "metadata": {
        "id": "YE7gXQRrrOPx",
        "colab_type": "code",
        "colab": {
          "base_uri": "https://localhost:8080/",
          "height": 71
        },
        "outputId": "1a36f336-09ed-46cd-886f-57c4f7f6cbc4"
      },
      "source": [
        "# Pass in attributes to the find() & find_all()\n",
        "paragraph = soup.find_all(\"p\")\n",
        "print(paragraph)\n",
        "\n",
        "paragraph2 = soup.find_all(\"p\", attrs={\"id\":\"paragraph-id\"})\n",
        "print(paragraph2)"
      ],
      "execution_count": 29,
      "outputs": [
        {
          "output_type": "stream",
          "text": [
            "[<p>Link to more interesting example: <a href=\"https://keithgalli.github.io/web-scraping/webpage.html\">keithgalli.github.io/web-scraping/webpage.html</a></p>, <p><i>Some italicized text</i></p>, <p id=\"paragraph-id\"><b>Some bold text</b></p>]\n",
            "[<p id=\"paragraph-id\"><b>Some bold text</b></p>]\n"
          ],
          "name": "stdout"
        }
      ]
    },
    {
      "cell_type": "code",
      "metadata": {
        "id": "UrWAxst0rnhU",
        "colab_type": "code",
        "colab": {
          "base_uri": "https://localhost:8080/",
          "height": 306
        },
        "outputId": "75c2ef1b-168c-4f14-ef0e-e8d5bf0386f2"
      },
      "source": [
        "# Nesting find() & find_all() calls\n",
        "body = soup.find(\"body\")\n",
        "print(body)\n",
        "print(\"________________________\")\n",
        "div = body.find(\"div\")\n",
        "print(div)\n",
        "print(\"________________________\")\n",
        "header = div.find(\"h1\")\n",
        "print(header)"
      ],
      "execution_count": 35,
      "outputs": [
        {
          "output_type": "stream",
          "text": [
            "<body>\n",
            "<div align=\"middle\">\n",
            "<h1>HTML Webpage</h1>\n",
            "<p>Link to more interesting example: <a href=\"https://keithgalli.github.io/web-scraping/webpage.html\">keithgalli.github.io/web-scraping/webpage.html</a></p>\n",
            "</div>\n",
            "<h2>A Header</h2>\n",
            "<p><i>Some italicized text</i></p>\n",
            "<h2>Another header</h2>\n",
            "<p id=\"paragraph-id\"><b>Some bold text</b></p>\n",
            "</body>\n",
            "________________________\n",
            "<div align=\"middle\">\n",
            "<h1>HTML Webpage</h1>\n",
            "<p>Link to more interesting example: <a href=\"https://keithgalli.github.io/web-scraping/webpage.html\">keithgalli.github.io/web-scraping/webpage.html</a></p>\n",
            "</div>\n",
            "________________________\n",
            "<h1>HTML Webpage</h1>\n"
          ],
          "name": "stdout"
        }
      ]
    },
    {
      "cell_type": "code",
      "metadata": {
        "id": "vLn4Wi12sJIJ",
        "colab_type": "code",
        "colab": {
          "base_uri": "https://localhost:8080/",
          "height": 68
        },
        "outputId": "66dbd59b-b287-48c4-84d5-8265fdbde6f5"
      },
      "source": [
        "# Search for specific strings in find() & find_all()\n",
        "import re #regex is useful for string manipulation\n",
        "paragraphs = soup.find_all(\"p\", text=\"Some\")\n",
        "print(paragraphs)\n",
        "\n",
        "paragraphs2 = soup.find_all(\"p\", text=re.compile(\"Some\"))\n",
        "print(paragraphs2)\n",
        "\n",
        "headers = soup.find_all(\"h2\", text=re.compile(\"(H|h)eader\"))\n",
        "print(headers)"
      ],
      "execution_count": 41,
      "outputs": [
        {
          "output_type": "stream",
          "text": [
            "[]\n",
            "[<p><i>Some italicized text</i></p>, <p id=\"paragraph-id\"><b>Some bold text</b></p>]\n",
            "[<h2>A Header</h2>, <h2>Another header</h2>]\n"
          ],
          "name": "stdout"
        }
      ]
    },
    {
      "cell_type": "markdown",
      "metadata": {
        "id": "wrZJb70htHOR",
        "colab_type": "text"
      },
      "source": [
        "### Select (CSS selector)\n",
        "useful link: [https://www.w3schools.com/cssref/css_selectors.asp](https://www.w3schools.com/cssref/css_selectors.asp)"
      ]
    },
    {
      "cell_type": "code",
      "metadata": {
        "id": "RoSNXhgmt_c4",
        "colab_type": "code",
        "colab": {}
      },
      "source": [
        "print(soup.body) #simple shorthand\n",
        "print(\"_______________________\")\n",
        "print(soup.body.prettify())"
      ],
      "execution_count": null,
      "outputs": []
    },
    {
      "cell_type": "code",
      "metadata": {
        "id": "FulaQCLPttz1",
        "colab_type": "code",
        "colab": {
          "base_uri": "https://localhost:8080/",
          "height": 0
        },
        "outputId": "a821da9c-3611-4b28-a0ea-4f801b5d513f"
      },
      "source": [
        "content = soup.select(\"p\")\n",
        "print(content)"
      ],
      "execution_count": 42,
      "outputs": [
        {
          "output_type": "stream",
          "text": [
            "[<p>Link to more interesting example: <a href=\"https://keithgalli.github.io/web-scraping/webpage.html\">keithgalli.github.io/web-scraping/webpage.html</a></p>, <p><i>Some italicized text</i></p>, <p id=\"paragraph-id\"><b>Some bold text</b></p>]\n"
          ],
          "name": "stdout"
        }
      ]
    },
    {
      "cell_type": "code",
      "metadata": {
        "id": "NmLgcKp7uZBb",
        "colab_type": "code",
        "colab": {
          "base_uri": "https://localhost:8080/",
          "height": 0
        },
        "outputId": "6b38a94a-e319-4535-a625-61ae265ea635"
      },
      "source": [
        "content2 = soup.select(\"div p\")\n",
        "print(content2)"
      ],
      "execution_count": 46,
      "outputs": [
        {
          "output_type": "stream",
          "text": [
            "[<p>Link to more interesting example: <a href=\"https://keithgalli.github.io/web-scraping/webpage.html\">keithgalli.github.io/web-scraping/webpage.html</a></p>]\n"
          ],
          "name": "stdout"
        }
      ]
    },
    {
      "cell_type": "code",
      "metadata": {
        "id": "ryYRJ_PWuds1",
        "colab_type": "code",
        "colab": {
          "base_uri": "https://localhost:8080/",
          "height": 0
        },
        "outputId": "d0fcadb1-caaa-4f86-85c3-b56c67464507"
      },
      "source": [
        "paragraphs = soup.select(\"h2 ~ p\") # get p directly after h2\n",
        "print(paragraphs)"
      ],
      "execution_count": 48,
      "outputs": [
        {
          "output_type": "stream",
          "text": [
            "[<p><i>Some italicized text</i></p>, <p id=\"paragraph-id\"><b>Some bold text</b></p>]\n"
          ],
          "name": "stdout"
        }
      ]
    },
    {
      "cell_type": "code",
      "metadata": {
        "id": "tgrdQWMRuoeP",
        "colab_type": "code",
        "colab": {
          "base_uri": "https://localhost:8080/",
          "height": 0
        },
        "outputId": "01064c17-e60b-46b1-a68c-677bfb5915ee"
      },
      "source": [
        "bold_text = soup.select(\"p#paragraph-id b\") # search for b under p  with id(paragraph-id) and \n",
        "print(bold_text)"
      ],
      "execution_count": 50,
      "outputs": [
        {
          "output_type": "stream",
          "text": [
            "[<b>Some bold text</b>]\n"
          ],
          "name": "stdout"
        }
      ]
    },
    {
      "cell_type": "code",
      "metadata": {
        "id": "yGrpqEg7vaU4",
        "colab_type": "code",
        "colab": {
          "base_uri": "https://localhost:8080/",
          "height": 0
        },
        "outputId": "e947797c-71cc-445c-edfe-9fd6b047581c"
      },
      "source": [
        "paragraphs = soup.select(\"body > p\")\n",
        "print(paragraphs)\n",
        "\n",
        "for paragraph in paragraphs:\n",
        "  para2 = paragraph.select(\"i\")\n",
        "  print(para2)\n"
      ],
      "execution_count": 53,
      "outputs": [
        {
          "output_type": "stream",
          "text": [
            "[<p><i>Some italicized text</i></p>, <p id=\"paragraph-id\"><b>Some bold text</b></p>]\n",
            "[<i>Some italicized text</i>]\n",
            "[]\n"
          ],
          "name": "stdout"
        }
      ]
    },
    {
      "cell_type": "code",
      "metadata": {
        "id": "4snpU7JZv58L",
        "colab_type": "code",
        "colab": {
          "base_uri": "https://localhost:8080/",
          "height": 0
        },
        "outputId": "ef3476de-0f73-49c2-e536-87a33ca13e23"
      },
      "source": [
        "# Grab element with specific property\n",
        "soup.select(\"[align=middle]\")"
      ],
      "execution_count": 54,
      "outputs": [
        {
          "output_type": "execute_result",
          "data": {
            "text/plain": [
              "[<div align=\"middle\">\n",
              " <h1>HTML Webpage</h1>\n",
              " <p>Link to more interesting example: <a href=\"https://keithgalli.github.io/web-scraping/webpage.html\">keithgalli.github.io/web-scraping/webpage.html</a></p>\n",
              " </div>]"
            ]
          },
          "metadata": {
            "tags": []
          },
          "execution_count": 54
        }
      ]
    },
    {
      "cell_type": "markdown",
      "metadata": {
        "id": "_vJGa_EOvMv3",
        "colab_type": "text"
      },
      "source": [
        "Difference between find/find_all and select: Select is more helpful if you have a specific path you are querying for."
      ]
    },
    {
      "cell_type": "markdown",
      "metadata": {
        "id": "8kxa8C01wH7B",
        "colab_type": "text"
      },
      "source": [
        "### Get different properties of HTML"
      ]
    },
    {
      "cell_type": "code",
      "metadata": {
        "id": "1vUX45T2wT6V",
        "colab_type": "code",
        "colab": {
          "base_uri": "https://localhost:8080/",
          "height": 51
        },
        "outputId": "1eab7d2f-b8d8-49c5-d69d-dc153712b0fc"
      },
      "source": [
        "header = soup.find(\"h2\")\n",
        "print(header)\n",
        "print(header.string)"
      ],
      "execution_count": 55,
      "outputs": [
        {
          "output_type": "stream",
          "text": [
            "<h2>A Header</h2>\n",
            "A Header\n"
          ],
          "name": "stdout"
        }
      ]
    },
    {
      "cell_type": "code",
      "metadata": {
        "id": "EMsprj40whcj",
        "colab_type": "code",
        "colab": {
          "base_uri": "https://localhost:8080/",
          "height": 306
        },
        "outputId": "d825faa5-d544-4af5-f3b1-45b5e85541ac"
      },
      "source": [
        "div = soup.find(\"div\")\n",
        "print(div.prettify())\n",
        "print(div.string) # returns None - cant have any nested html elements \n",
        "print(div.get_text()) # use this to get all available texts\n"
      ],
      "execution_count": 58,
      "outputs": [
        {
          "output_type": "stream",
          "text": [
            "<div align=\"middle\">\n",
            " <h1>\n",
            "  HTML Webpage\n",
            " </h1>\n",
            " <p>\n",
            "  Link to more interesting example:\n",
            "  <a href=\"https://keithgalli.github.io/web-scraping/webpage.html\">\n",
            "   keithgalli.github.io/web-scraping/webpage.html\n",
            "  </a>\n",
            " </p>\n",
            "</div>\n",
            "\n",
            "None\n",
            "\n",
            "HTML Webpage\n",
            "Link to more interesting example: keithgalli.github.io/web-scraping/webpage.html\n",
            "\n"
          ],
          "name": "stdout"
        }
      ]
    },
    {
      "cell_type": "code",
      "metadata": {
        "id": "fVkedlfXw4JL",
        "colab_type": "code",
        "colab": {
          "base_uri": "https://localhost:8080/",
          "height": 85
        },
        "outputId": "bb438b73-7712-4534-86e6-89c76901ba68"
      },
      "source": [
        "# Get a specific property from an element\n",
        "link = soup.find(\"a\")\n",
        "print(link)\n",
        "print(link[\"href\"])\n",
        "\n",
        "paragraphs = soup.select(\"p#paragraph-id\")\n",
        "print(paragraphs)\n",
        "print(paragraphs[0][\"id\"])"
      ],
      "execution_count": 62,
      "outputs": [
        {
          "output_type": "stream",
          "text": [
            "<a href=\"https://keithgalli.github.io/web-scraping/webpage.html\">keithgalli.github.io/web-scraping/webpage.html</a>\n",
            "https://keithgalli.github.io/web-scraping/webpage.html\n",
            "[<p id=\"paragraph-id\"><b>Some bold text</b></p>]\n",
            "paragraph-id\n"
          ],
          "name": "stdout"
        }
      ]
    },
    {
      "cell_type": "code",
      "metadata": {
        "id": "fNpStJN_xc1j",
        "colab_type": "code",
        "colab": {}
      },
      "source": [
        ""
      ],
      "execution_count": null,
      "outputs": []
    },
    {
      "cell_type": "markdown",
      "metadata": {
        "id": "S3uL5y96xkT6",
        "colab_type": "text"
      },
      "source": [
        "### Code Navigation\n"
      ]
    },
    {
      "cell_type": "code",
      "metadata": {
        "id": "O0_ttuWexpEl",
        "colab_type": "code",
        "colab": {
          "base_uri": "https://localhost:8080/",
          "height": 102
        },
        "outputId": "c7d1be26-9458-4155-f1e0-4560b6f54555"
      },
      "source": [
        "# Path Syntax\n",
        "print(soup.body.div)\n",
        "print(soup.body.div.h1.string)"
      ],
      "execution_count": 65,
      "outputs": [
        {
          "output_type": "stream",
          "text": [
            "<div align=\"middle\">\n",
            "<h1>HTML Webpage</h1>\n",
            "<p>Link to more interesting example: <a href=\"https://keithgalli.github.io/web-scraping/webpage.html\">keithgalli.github.io/web-scraping/webpage.html</a></p>\n",
            "</div>\n",
            "HTML Webpage\n"
          ],
          "name": "stdout"
        }
      ]
    },
    {
      "cell_type": "code",
      "metadata": {
        "id": "Y9rTADgqxzgl",
        "colab_type": "code",
        "colab": {
          "base_uri": "https://localhost:8080/",
          "height": 102
        },
        "outputId": "71e3aabe-1a2b-4ee2-e6dc-7a8ef75596b1"
      },
      "source": [
        "# Know the terms: Parent, Sibling, Child\n",
        "print(soup.body.find(\"div\"))\n",
        "print(soup.body.find(\"div\").find_next_siblings())"
      ],
      "execution_count": 69,
      "outputs": [
        {
          "output_type": "stream",
          "text": [
            "<div align=\"middle\">\n",
            "<h1>HTML Webpage</h1>\n",
            "<p>Link to more interesting example: <a href=\"https://keithgalli.github.io/web-scraping/webpage.html\">keithgalli.github.io/web-scraping/webpage.html</a></p>\n",
            "</div>\n",
            "[<h2>A Header</h2>, <p><i>Some italicized text</i></p>, <h2>Another header</h2>, <p id=\"paragraph-id\"><b>Some bold text</b></p>]\n"
          ],
          "name": "stdout"
        }
      ]
    },
    {
      "cell_type": "markdown",
      "metadata": {
        "id": "SzCx7aI2y3Ak",
        "colab_type": "text"
      },
      "source": [
        "## Practices\n",
        "\n",
        "From [https://keithgalli.github.io/web-scraping/webpage.html]()"
      ]
    },
    {
      "cell_type": "markdown",
      "metadata": {
        "id": "0uNQnDARzDlj",
        "colab_type": "text"
      },
      "source": [
        ""
      ]
    },
    {
      "cell_type": "markdown",
      "metadata": {
        "id": "EYfQcdbuzXzV",
        "colab_type": "text"
      },
      "source": [
        "### Load the Webpage"
      ]
    },
    {
      "cell_type": "code",
      "metadata": {
        "id": "53pdahQRzaBm",
        "colab_type": "code",
        "colab": {}
      },
      "source": [
        "# Load the sample webpage\n",
        "sample_url = 'https://keithgalli.github.io/web-scraping/webpage.html'\n",
        "r = requests.get(sample_url)\n",
        "\n",
        "# Convert to a beautiful soup object\n",
        "webpage = bs(r.content)"
      ],
      "execution_count": 72,
      "outputs": []
    },
    {
      "cell_type": "code",
      "metadata": {
        "id": "DxR2HUZqzoIr",
        "colab_type": "code",
        "colab": {}
      },
      "source": [
        "# Take a look at the html\n",
        "print(webpage.prettify())"
      ],
      "execution_count": null,
      "outputs": []
    },
    {
      "cell_type": "markdown",
      "metadata": {
        "id": "qfJ7ccHVz3Da",
        "colab_type": "text"
      },
      "source": [
        "### 1. Grab all of the social links from the webpage\n",
        "(do in 3 different ways)\n"
      ]
    }
  ]
}